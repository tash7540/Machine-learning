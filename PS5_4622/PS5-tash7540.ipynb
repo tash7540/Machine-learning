{
 "cells": [
  {
   "cell_type": "markdown",
   "metadata": {},
   "source": [
    "# Homework 5 - K-Means, Kernel Trick, Neural Networks\n",
    "## CSCI 4622 - Fall 2021\n",
    "***\n",
    "**Name**:Tamer Shahwan\n",
    "***\n",
    "\n",
    "This assignment is due on Canvas by **11.59 PM on Wednesday, December 8**.\n",
    "Submit only this Jupyter notebook to Canvas.  Do not compress it using tar, rar, zip, etc.\n",
    "Your solutions to analysis questions should be done in Markdown directly below the associated question.\n",
    "Remember that you are encouraged to discuss the problems with your classmates and instructors,\n",
    "but **you must write all code and solutions on your own**, and list any people or sources consulted."
   ]
  },
  {
   "cell_type": "markdown",
   "metadata": {},
   "source": [
    "Data Setup\n",
    "---\n",
    "\n",
    "For this problem set, we will be working with synthetic data in varying arrangements. In particular, we will use a \"Blobs\" dataset and a \"Half-Moons\" dataset."
   ]
  },
  {
   "cell_type": "code",
   "execution_count": 1,
   "metadata": {},
   "outputs": [
    {
     "name": "stderr",
     "output_type": "stream",
     "text": [
      "In C:\\Users\\Tamer\\Anaconda3\\lib\\site-packages\\matplotlib\\mpl-data\\stylelib\\_classic_test.mplstyle: \n",
      "The text.latex.preview rcparam was deprecated in Matplotlib 3.3 and will be removed two minor releases later.\n",
      "In C:\\Users\\Tamer\\Anaconda3\\lib\\site-packages\\matplotlib\\mpl-data\\stylelib\\_classic_test.mplstyle: \n",
      "The mathtext.fallback_to_cm rcparam was deprecated in Matplotlib 3.3 and will be removed two minor releases later.\n",
      "In C:\\Users\\Tamer\\Anaconda3\\lib\\site-packages\\matplotlib\\mpl-data\\stylelib\\_classic_test.mplstyle: Support for setting the 'mathtext.fallback_to_cm' rcParam is deprecated since 3.3 and will be removed two minor releases later; use 'mathtext.fallback : 'cm' instead.\n",
      "In C:\\Users\\Tamer\\Anaconda3\\lib\\site-packages\\matplotlib\\mpl-data\\stylelib\\_classic_test.mplstyle: \n",
      "The validate_bool_maybe_none function was deprecated in Matplotlib 3.3 and will be removed two minor releases later.\n",
      "In C:\\Users\\Tamer\\Anaconda3\\lib\\site-packages\\matplotlib\\mpl-data\\stylelib\\_classic_test.mplstyle: \n",
      "The savefig.jpeg_quality rcparam was deprecated in Matplotlib 3.3 and will be removed two minor releases later.\n",
      "In C:\\Users\\Tamer\\Anaconda3\\lib\\site-packages\\matplotlib\\mpl-data\\stylelib\\_classic_test.mplstyle: \n",
      "The keymap.all_axes rcparam was deprecated in Matplotlib 3.3 and will be removed two minor releases later.\n",
      "In C:\\Users\\Tamer\\Anaconda3\\lib\\site-packages\\matplotlib\\mpl-data\\stylelib\\_classic_test.mplstyle: \n",
      "The animation.avconv_path rcparam was deprecated in Matplotlib 3.3 and will be removed two minor releases later.\n",
      "In C:\\Users\\Tamer\\Anaconda3\\lib\\site-packages\\matplotlib\\mpl-data\\stylelib\\_classic_test.mplstyle: \n",
      "The animation.avconv_args rcparam was deprecated in Matplotlib 3.3 and will be removed two minor releases later.\n"
     ]
    }
   ],
   "source": [
    "import math\n",
    "import pickle\n",
    "import gzip\n",
    "import numpy as np\n",
    "import pandas\n",
    "import matplotlib.pylab as plt\n",
    "%matplotlib inline"
   ]
  },
  {
   "cell_type": "code",
   "execution_count": 2,
   "metadata": {},
   "outputs": [],
   "source": [
    "from sklearn import datasets \n",
    "np.random.seed(0)\n",
    "\n",
    "class BlobData:\n",
    "    def __init__(self, c=4, n=5000):\n",
    "        xx, yy = datasets.make_blobs(centers=c, n_samples=n)\n",
    "        self.X = xx\n",
    "        self.y = yy\n",
    "        \n",
    "class MoonData:\n",
    "    def __init__(self, n=2000):\n",
    "        xx, yy = datasets.make_moons(n_samples=n, noise=0.05)\n",
    "        self.X = xx\n",
    "        self.y = yy\n",
    "                \n",
    "blob_data = BlobData()\n",
    "moon_data = MoonData()"
   ]
  },
  {
   "cell_type": "markdown",
   "metadata": {},
   "source": [
    "Problem 1 - K-Means (Clustering) [45 Points]\n",
    "---\n",
    "K-means clustering is a type of unsupervised learning, which is used in the scenarios where you have unlabeled data. The goal of K-means is to partition the data into $k$ clusters such that the sum of intra-cluster variances is minimal.\n",
    "\n",
    "We will be using Euclidian distance as our loss measure, so for cluster $C_i = \\{x_1,x_2,... x_{m_i}\\}$, its intra-cluster variance $V(C_i)$ is defined as:\n",
    "\n",
    "$$\n",
    "V(C_i) = \\sum_{j=1}^{m_i} ||x_j - \\mu_i||^2\n",
    "$$\n",
    "\n",
    "where $\\mu_i = \\frac{1}{m} \\sum_{i=1}^{m_i} x_i$. $\\mu_i$ is called the centroid of cluster $C_i$.\n",
    "\n",
    "So for $k$ clusters, K-means objective is:\n",
    "$$\n",
    "\\sum_{i=1}^{k}V(C_i) = \\sum_{i=1}^{k} \\sum_{j=1}^{m_i} ||x_j - \\mu_i||^2\n",
    "$$\n",
    "\n",
    "Each point $x_i$ is assigned to the cluster of the closest centroid. Hence, finding The parition $\\{C_1,C_2...C_k\\}$ that minimizes the objective is equivalent to finding the optimal centroids. The cluster centroids are computed using the mean of the corresponding clusters ($C_1, ..., C_k$) which is equivalent to taking mean of the data points that lies inside the given cluster. "
   ]
  },
  {
   "cell_type": "markdown",
   "metadata": {},
   "source": [
    "#### Complete the KMeans class:\n",
    "- **1.1 [5 points]** Complete the `cluster_assignment`: Given a single data point (_xi_), it computes the cluster to which it belongs. Calculate distance of the point _xi_ with all the centroids  and returns the index of self.centroid its closest to.\n",
    "- **1.2 [5 points]** Complete `predict_labels` : Given data _X_ (n_rows  x n_features), returns labels (cluster no.). Use `cluster_assignments` over all _X_ and return cluster assignments corresponding to each _xi_\n",
    "- **1.3 [5 points]** Complete `centroid_update`: Updates the centroids of each cluster. Compute the mean value of data points in each cluster and update the cluster centroids with the computed values. \n",
    "- **1.4 [10 points]** Complete the `fit`: Routine for running K-means. Follow instructions given in function."
   ]
  },
  {
   "cell_type": "code",
   "execution_count": 82,
   "metadata": {},
   "outputs": [],
   "source": [
    "class KMeans:\n",
    "    def __init__(self, n_clusters=4, centroid_init=[]):\n",
    "        \"\"\"\n",
    "        Parameters\n",
    "        ----------\n",
    "        n_clusters:  number of clusters\n",
    "        centroid_init: Centroid Initialization (to be used for prediction)\n",
    "        \"\"\"             \n",
    "        self.K = n_clusters\n",
    "        self.centroids = centroid_init\n",
    "        \n",
    "    def cluster_assignment(self, xi):\n",
    "        \"\"\"\n",
    "        Given a random data point (xi), compute the cluster to which it belongs.\n",
    "        ----------\n",
    "        xi: a single data point\n",
    "        \n",
    "        Returns: \n",
    "            ci: cluster assignment (label) of xi\n",
    "        \"\"\"\n",
    "        ##BEGIN\n",
    "        result= []\n",
    "        for centroid in self.centroids:\n",
    "            value = 0\n",
    "            for feature in range(len(xi)):\n",
    "                value =value + abs((xi[feature]-centroid[feature])**2)\n",
    "            result.append(value)\n",
    "        return(result.index(min(result)))\n",
    "        ##END\n",
    "    \n",
    "    def predict_labels(self, X):\n",
    "        \"\"\"\n",
    "        Predict label (cluster assignments) for the dataset.\n",
    "        ----------\n",
    "        X: given data (n_rows  x n_features)\n",
    "        \n",
    "        Returns: \n",
    "            labels: index of closest centroids (n_rows)  \n",
    "        \"\"\"\n",
    "        ##BEGIN\n",
    "        minimum =[]\n",
    "        for data in X:\n",
    "            data = list(data)\n",
    "            label = self.cluster_assignment(data)\n",
    "            minimum.append(label)\n",
    "        return(minimum)\n",
    "        ##END\n",
    "    \n",
    "    def centroid_update(self, X,labels):\n",
    "        \n",
    "        \"\"\"\n",
    "        Update the centroids (self.centroids) \n",
    "        : Compute the mean value of data points in each cluster \n",
    "          and update the cluster centroids with them. \n",
    "        ----------\n",
    "        X: given data (n_rows  x n_features)\n",
    "        \n",
    "        Returns: nothing\n",
    "        \"\"\"\n",
    "        ##BEGIN       \n",
    "\n",
    "        new_centroid = []\n",
    "        for cluster_index in range(self.K):\n",
    "            holder_x = 0\n",
    "            holder_y = 0\n",
    "            total = 0\n",
    "            for data_index in range(len(X)):\n",
    "                if (cluster_index == labels[data_index]):\n",
    "                    total = total + 1\n",
    "                    holder_x = holder_x + X[data_index][0]\n",
    "                    holder_y = holder_y + X[data_index][1]\n",
    "\n",
    "            new_centroid.append((holder_x/total , holder_y/total))\n",
    "        return(new_centroid)\n",
    "        ##END\n",
    "        \n",
    "    def fit(self, X):\n",
    "        \"\"\"\n",
    "        Run K-means.\n",
    "        \n",
    "        : Initialize a list of centroids (length self.K) with random values.   \n",
    "        : Generate clusters using self.predict labels, using the dataset X.\n",
    "        : Update the centroids using mean of clusters until they converge, \n",
    "          i.e, no change is observed in values of centroids.\n",
    "        \n",
    "        ----------\n",
    "        X: given data (n_rows  x n_features)\n",
    "        \n",
    "        Returns: \n",
    "            self.centroids: Final values of the estimated centroids (length K)  \n",
    "        \n",
    "        \"\"\"\n",
    "        ##BEGIN\n",
    "        flag = True\n",
    "        counter = 0\n",
    "        while flag:\n",
    "            index_lst = [x for x in range(len(X))]\n",
    "            np.random.seed(4622)\n",
    "            #select random indices used for centroids assignment\n",
    "            index = np.random.choice(index_lst,self.K,replace=False)\n",
    "            for i in index:\n",
    "                data = []\n",
    "                for j in X[i]:\n",
    "                    data.append(j)\n",
    "                self.centroids.append(data)\n",
    "\n",
    "            #labels contains a the closest centroid to each data point\n",
    "            labels = self.predict_labels(X)\n",
    "\n",
    "            result =self.centroid_update(X,labels)\n",
    "            k = 0\n",
    "            for centroid_index in range(len(result)):\n",
    "                if result[centroid_index][0] == self.centroids[centroid_index][0]:\n",
    "                    if result[centroid_index][1] == self.centroids[centroid_index][1]:\n",
    "                        k = k+1\n",
    "                        \n",
    "            self.centroids = result\n",
    "\n",
    "            if k == self.K:\n",
    "                flag = False\n",
    "            counter = counter +1\n",
    "        print('iterations until converge:',counter)\n",
    "        return(self.centroids)\n",
    "        ##END"
   ]
  },
  {
   "cell_type": "markdown",
   "metadata": {},
   "source": [
    "**1.5 a [5 points]** For each of the datasets (`blob_data` & `moon_data`), do the following:\n",
    "- Produce a scatter plot data-points and color the points according to their labels.\n",
    "- Observe the number of clusters in each data. Then fit K-means and show the computed centroids on the plot."
   ]
  },
  {
   "cell_type": "code",
   "execution_count": 72,
   "metadata": {},
   "outputs": [
    {
     "name": "stdout",
     "output_type": "stream",
     "text": [
      "iterations until converge: 15\n"
     ]
    },
    {
     "data": {
      "image/png": "[encoded data removed]",
      "text/plain": [
       "<Figure size 432x288 with 1 Axes>"
      ]
     },
     "metadata": {
      "needs_background": "light"
     },
     "output_type": "display_data"
    }
   ],
   "source": [
    "np.random.seed(4622)\n",
    "\n",
    "##BEGIN\n",
    "#useful link for coloring my datapoint according to labels: https://stackoverflow.com/questions/28227340/kmeans-scatter-plot-plot-different-colors-per-cluster\n",
    "LABEL_COLOR_MAP = {0 : 'r',\n",
    "                   1 : 'b',\n",
    "                   2 : 'y',\n",
    "                   3 : 'g',\n",
    "                   }\n",
    "\n",
    "label_color = [LABEL_COLOR_MAP[l] for l in blob_data.y]\n",
    "plt.scatter([x[0] for x in blob_data.X], [x[1] for x in blob_data.X], c=label_color)\n",
    "model = KMeans(n_clusters=4)\n",
    "centroids=model.fit(blob_data.X)\n",
    "plt.scatter([x[0] for x in centroids], [x[1] for x in centroids], c='black', marker='+')\n",
    "plt.title(\"Blob Data\")\n",
    "\n",
    "plt.show()\n",
    "##END"
   ]
  },
  {
   "cell_type": "code",
   "execution_count": 75,
   "metadata": {},
   "outputs": [
    {
     "name": "stdout",
     "output_type": "stream",
     "text": [
      "iterations until converge: 7\n",
      "[(1.9042301923721001, 0.1266956866042727), (-0.2832485283739474, 0.6067830410389846)]\n"
     ]
    },
    {
     "data": {
      "image/png": "[encoded data removed]",
      "text/plain": [
       "<Figure size 432x288 with 1 Axes>"
      ]
     },
     "metadata": {
      "needs_background": "light"
     },
     "output_type": "display_data"
    }
   ],
   "source": [
    "np.random.seed(4622)\n",
    "\n",
    "##BEGIN\n",
    "\n",
    "x_data =[]\n",
    "y_data=[]\n",
    "for i in moon_data.X:\n",
    "    x_data.append(i[0]) \n",
    "    y_data.append(i[1])\n",
    "#for i in range(len(moon_data.y)):\n",
    "#    print(moon_data.y[i])\n",
    "LABEL_COLOR_MAP = {0 : 'r',\n",
    "                   1 : 'b',\n",
    "                   }\n",
    "\n",
    "label_color = [LABEL_COLOR_MAP[l] for l in moon_data.y]\n",
    "plt.scatter([x[0] for x in moon_data.X], [x[1] for x in moon_data.X], c=label_color)\n",
    "model = KMeans(n_clusters=2)\n",
    "centroids=model.fit(moon_data.X)\n",
    "print(centroids)\n",
    "x_centroid = []\n",
    "y_centroid = []\n",
    "\n",
    "plt.scatter([x[0] for x in centroids], [x[1] for x in centroids], c='black', marker='+')\n",
    "plt.title(\"Moon Data\")\n",
    "\n",
    "plt.show()\n",
    "##END"
   ]
  },
  {
   "cell_type": "markdown",
   "metadata": {},
   "source": [
    "**1.5 b [5 points]** For each of the datasets (`blob_data` & `moon_data`), do the following:\n",
    "- Produce a scatter plot data-points and color the points according to their labels.\n",
    "- Produce another scatter plot data-points and color the points according to their predicted labels\n",
    "\n",
    "**NOTE:** The centroids obtained from KMeans `fit` can be used as the argument for `centroid_init` and then you'll be able to predict lables using `predict_labels` of the data-points."
   ]
  },
  {
   "cell_type": "code",
   "execution_count": 78,
   "metadata": {},
   "outputs": [
    {
     "name": "stdout",
     "output_type": "stream",
     "text": [
      "iterations until converge: 15\n"
     ]
    },
    {
     "data": {
      "image/png": "[encoded data removed]",
      "text/plain": [
       "<Figure size 432x288 with 1 Axes>"
      ]
     },
     "metadata": {
      "needs_background": "light"
     },
     "output_type": "display_data"
    }
   ],
   "source": [
    "np.random.seed(4622)\n",
    "\n",
    "##BEGIN\n",
    "model = KMeans(n_clusters=4)\n",
    "centroids=model.fit(blob_data.X)\n",
    "labels = model.predict_labels(blob_data.X)\n",
    "#useful link for coloring my datapoint according to labels: https://stackoverflow.com/questions/28227340/kmeans-scatter-plot-plot-different-colors-per-cluster\n",
    "LABEL_COLOR_MAP = {0 : 'r',\n",
    "                   1 : 'b',\n",
    "                   2 : 'y',\n",
    "                   3 : 'g',\n",
    "                   }\n",
    "\n",
    "#label_color = [LABEL_COLOR_MAP[l] for l in blob_data.y]\n",
    "plt.scatter([x[0] for x in blob_data.X], [x[1] for x in blob_data.X], c=labels)\n",
    "\n",
    "plt.scatter([x[0] for x in centroids], [x[1] for x in centroids], c='black', marker='+')\n",
    "plt.title(\"Blob Data\")\n",
    "\n",
    "plt.show()\n",
    "##END"
   ]
  },
  {
   "cell_type": "code",
   "execution_count": 83,
   "metadata": {},
   "outputs": [
    {
     "name": "stdout",
     "output_type": "stream",
     "text": [
      "iterations until converge: 7\n"
     ]
    },
    {
     "data": {
      "image/png": "[encoded data removed]",
      "text/plain": [
       "<Figure size 432x288 with 1 Axes>"
      ]
     },
     "metadata": {
      "needs_background": "light"
     },
     "output_type": "display_data"
    }
   ],
   "source": [
    "np.random.seed(4622)\n",
    "\n",
    "##BEGIN\n",
    "model = KMeans(n_clusters=2)\n",
    "centroids=model.fit(moon_data.X)\n",
    "labels = model.predict_labels(moon_data.X)\n",
    "#useful link for coloring my datapoint according to labels: https://stackoverflow.com/questions/28227340/kmeans-scatter-plot-plot-different-colors-per-cluster\n",
    "LABEL_COLOR_MAP = {0 : 'r',\n",
    "                   1 : 'b',\n",
    "                   2 : 'y',\n",
    "                   3 : 'g',\n",
    "                   }\n",
    "\n",
    "#label_color = [LABEL_COLOR_MAP[l] for l in blob_data.y]\n",
    "plt.scatter([x[0] for x in moon_data.X], [x[1] for x in moon_data.X], c=labels)\n",
    "\n",
    "plt.scatter([x[0] for x in centroids], [x[1] for x in centroids], c='black', marker='+')\n",
    "plt.title(\"Moon Data\")\n",
    "\n",
    "plt.show()\n",
    "##END"
   ]
  },
  {
   "cell_type": "markdown",
   "metadata": {},
   "source": [
    "- **1.6 [5 points]** Comment on the quality of centroids obtained in the above question."
   ]
  },
  {
   "cell_type": "markdown",
   "metadata": {},
   "source": [
    "### Workspace 1.6\n",
    "\n",
    "#### BEGIN\n",
    "Blob data: great quality centroids as they almost fully capture the true labels.\n",
    "\n",
    "\n",
    "Moon data: Bad quaility centroids. The two clusters are getting alot of incorrect predictions, which is due K means looking ONLY at the distance from centroid.\n",
    "#### END\n"
   ]
  },
  {
   "cell_type": "markdown",
   "metadata": {},
   "source": [
    "- **1.7 [5 points]** Based on the observation from above, give some disadvantages of KMeans."
   ]
  },
  {
   "cell_type": "markdown",
   "metadata": {},
   "source": [
    "### Workspace 1.7\n",
    "\n",
    "#### BEGIN\n",
    "K means fails at dealing with non convex clusters. Looking at the Moon data, it as difficilt for k means to capture the true shape of the cluster ( half a circle) since it assigns each data point to the centroid closest to it.  \n",
    "#### END\n"
   ]
  },
  {
   "cell_type": "markdown",
   "metadata": {},
   "source": [
    "## [Bonus 10 Points] K-means++ \n",
    "We have used a random centroid initialization in K-means. In K-means++, we initialize the centroids\n",
    "in a (slightly) smarter way, and it works as the following:\n",
    "- Choose the first centroid uniformly at random from the data points\n",
    "- For the subsequent centroids:\n",
    "    - compute the distances $(d_i)$ between the data points and the current centroids (distance between a point and its nearest centroid)\n",
    "    - Pick a new centroid randomly with probability proportional to $(d_i ^2)$.\n",
    "\n",
    "The rest of _K-means++_'s algorithm is exactly the same as _K-means_\n",
    "\n",
    "\n",
    "**1.9 Bonus question [10 points]**  Complete the `KMeansPP` class:\n",
    "\n",
    "- Complete the `initialize_centroids`: Initialize K-means++ centroids as described above. \n",
    "- Complete `compute_distaces`: Compute the distances matrix $D$ between data points and centroids.\n",
    "- Complete `fit`: Implementing the KMeans++ algorithm mentioned above.\n",
    "- Produce the same plot as done in **[1.5]** but using `KMeansPP`\n",
    "\n",
    "_Hint_: The weighted sampling can be done using `numpy`'s `choice` and its argument `p`. You do not have to worry about excluding the already picked centroids from the data. Once they're picked, their sampling weight should be equal to $0$. Make sure the probabilities sum to $1$."
   ]
  },
  {
   "cell_type": "code",
   "execution_count": 58,
   "metadata": {},
   "outputs": [],
   "source": [
    "class KMeansPP:\n",
    "    def __init__(self, n_clusters=4):\n",
    "        self.K = n_clusters\n",
    "        self.centroids = None\n",
    "    \n",
    "    def initialize_centroids(self, X):\n",
    "        \"\"\"\n",
    "        Complete K-means++ centroid initialization.\n",
    "        : Update self.centroids\n",
    "        \"\"\"\n",
    "        # BEGIN  \n",
    "\n",
    "        # END\n",
    "    \n",
    "    def compute_distances(self, X):\n",
    "        \"\"\"\n",
    "        Computes the distance matrix of size (N, k) where each cell (i, j) represents the distance between\n",
    "        i-th point and j-th centroid. \n",
    "        RETURN: \n",
    "            Distances_matrix : np.ndarray (no. of samples x K)\n",
    "        \"\"\"\n",
    "        distances_matrix = np.zeros((X.shape[0], self.K))\n",
    "        \n",
    "        #BEGIN\n",
    "\n",
    "        #END\n",
    "        return distances_matrix\n",
    "    \n",
    "    def fit(self, X):\n",
    "        \"\"\"\n",
    "        Complete the K-means++ as explained above.\n",
    "        \n",
    "        X: given data (n_rows  x n_features)\n",
    "        RETURN: \n",
    "            list of final centroids (length K)\n",
    "        \"\"\"\n",
    "        self.initialize_centroids(X)\n",
    "        \n",
    "        # BEGIN\n",
    "\n",
    "        # END\n",
    "        \n",
    "        return self.centroids"
   ]
  },
  {
   "cell_type": "code",
   "execution_count": 5,
   "metadata": {},
   "outputs": [],
   "source": [
    "np.random.seed(4622)\n",
    "\n",
    "##BEGIN Workspace 1.9d\n",
    "\n",
    "##END"
   ]
  },
  {
   "cell_type": "markdown",
   "metadata": {},
   "source": [
    "Problem 2 - The Kernel Trick [15 Points]\n",
    "---\n",
    "A Kernel Trick is a simple method where non-linear data is projected onto a another dimension space so as to make it easier to classify the data where it could be linearly divided by a plane. The kernel trick make methods like support vector machines powerful. In this problem we will get familiar with the kernel trick.\n",
    "\n",
    " \n",
    "_XOR_ is a logic unit that gives a true (1 or HIGH) output when the number of true inputs is odd. \n",
    "$$ \\begin{array}{c|cccc} x_1 & 1 & 0 & 1 & 0 \\\\ x_2 & 1 & 0 & 0 & 1 \\\\ \\hline x_1 \\texttt{ XOR } x_2 & 0 & 0 & 1 & 1 \\\\ \\end{array} $$\n",
    "\n",
    "**2.1 [5 points]** Consider a support vector machine that computes the _XOR_ function, using values of +1 and −1 (instead of 1 and 0) for both inputs and outputs, so that an example looks like ($[−1, 1], 1$) or ($[−1, −1], -1$). Complete the following: \n",
    "- Map the input $[x_1, x_2]$ into a space consisting of $x_1$ and $x_1x_2$. \n",
    "- Plot the four input points in this space, and color them according the _XOR_ values. \n",
    "- Show maximal margin separator on the plot. \n",
    "- *Hint: it may be helpful to think about accomplishing this plotting task by hand, using pencil and paper, then translating it into a Python plot.*\n",
    "\n",
    "_A Maximal Margin Separator is a hyperplane (in a 2-dimensional space, it is a line) that completely separates 2 classes of observations, while giving the most space between the hyperplane and the nearest observation. For example, a SVM tries to generate a Maximal Margin Separator._ \n",
    "- Give the margin value (distance between Maximal Margin Separator & one nearest point) in the markdown cell. \n",
    "\n",
    "Remember to use different colors to indicate which points have output +1 and which have -1."
   ]
  },
  {
   "cell_type": "code",
   "execution_count": 6,
   "metadata": {},
   "outputs": [],
   "source": [
    "##BEGIN\n",
    "\n",
    "##END"
   ]
  },
  {
   "cell_type": "markdown",
   "metadata": {},
   "source": [
    "### Workspace 2.1\n",
    "\n",
    "#### BEGIN\n",
    "\n",
    "#### END\n"
   ]
  },
  {
   "cell_type": "markdown",
   "metadata": {},
   "source": [
    "\n",
    "**2.2 [5 points]** Plot the separating line (Maximal margin seperator) and the data points from **Part 1** back in the original Euclidean input space.\n",
    "\n",
    "- *Hint: it may be helpful to think about accomplishing this plotting task by hand, using pencil and paper, then translating it into a Python plot.*\n",
    "- *Hint: There would be multiple lines.*"
   ]
  },
  {
   "cell_type": "code",
   "execution_count": 7,
   "metadata": {},
   "outputs": [],
   "source": [
    "##BEGIN\n",
    "\n",
    "##END"
   ]
  },
  {
   "cell_type": "markdown",
   "metadata": {},
   "source": [
    "#### Linearity and Non-Linearity: \n",
    "On a Plane, a linear function is a function where the graph is a straight line. The line can go in any direction, but it’s always a straight line. However, a non-linear function has a shape that is not a straight line.\n",
    "\n",
    "**2.3 [5 points]** Is the separator in `Part 1` linear? Is the one in `Part 2` linear? "
   ]
  },
  {
   "cell_type": "markdown",
   "metadata": {},
   "source": [
    "### Workspace 2.3\n",
    "\n",
    "#### BEGIN\n",
    "\n",
    "#### END"
   ]
  },
  {
   "cell_type": "markdown",
   "metadata": {},
   "source": [
    "Problem 3 - Feedforward Neural Networks using NumPy [40 Points]\n",
    "---\n",
    "\n",
    "In this problem you will implement a class representing a general feed-forward neural network that utilizes the sigmoid activation function.\n",
    "\n",
    "\n",
    "Let's start with the error:\n",
    "$$error = \\frac{1}{2} (yPred-Y)^2$$\n",
    "\n",
    "Here, $yPred$ = ``forward_Prop``$(X)$, and $Y$ is the desired output value from the neural network.\n",
    "\n",
    "$$Cost \\; J = \\frac{1}{2} \\sum \\limits_{n} {\\left( error \\right)^2} = \\frac{1}{2} \\sum \\limits_{n}  {\\left( yPred-Y \n",
    "\\right)}^2 $$\n",
    "\n",
    "\n",
    "\n",
    "Once we have initialized W, we need to iteratively update it such that J is minimized.\n",
    "\n",
    "\n",
    "\n",
    "\n",
    "#### - Consider layer $L$, Computing  $\\frac{{\\partial}}{{\\partial}W^{(L)}}(Cost J)$\n",
    "\n",
    "$$\\frac{{\\partial}}{{\\partial}W^{(L)}}(Cost J) = CostJ' \\times  \\frac{{\\partial}}{{\\partial}W^{(L)}}(yPred)$$\n",
    "- where $CostJ'$ is the derivative of the Cost function (`grad_cost`)\n",
    "\n",
    "#### - Let's compute $\\frac{{\\partial}\\;yPred}{{\\partial}W^{(L)}}$ \n",
    "\n",
    "We use Sigmoid activation function, so $yPred$ can be written as:\n",
    "\n",
    "$$yPred = Sigmoid(X^{(L)}*W^{(L)}+b^{L})$$\n",
    "\n",
    "So,\n",
    "\n",
    "$$\\frac{{\\partial}\\;yPred}{{\\partial}W^{(L)}} = \\frac{{\\partial}}{{\\partial}W^{(L)}}\\left(Sigmoid\\left(X^{(L)}.*W^{(L)}+b^{L})\\right)\\right) = Sigmoid^{'}\\left(X^{(L)}.*W^{(L)}+b^{L})\\right)*\\left(\\frac{{\\partial}}{{\\partial}W^{(L)}}\\left((X^{(L)}.*W^{(L)}+b^{L})\\right)\\right)$$\n",
    "\n",
    "- Here $Sigmoid'$ is the derivative of the Sigmoid activation function (`g_prime`). \n",
    "\n",
    "#### - Computing $\\frac{{\\partial}}{{\\partial}W^{(L)}}((X^{(L)}.*W^{(L)}+b^{L}))$\n",
    "\n",
    "It can be seen that $\\frac{{\\partial}}{{\\partial}W^{(L)}}((X^{(L)}.*W^{(L)}+b^{L}))) = X^{(L)}$, where $X^{L}=Sigmoid(W^{L-1}*X^{L-1}+b^{L-1})$\n",
    "\n",
    "#### - Computing gradients in backward propogation (`back_prop`)\n",
    "\n",
    "Consider a variable ${\\Delta}W^{(L)}$, such that:\n",
    "$${\\Delta}W^{(L)} = Cost'J \\times Sigmoid' (W^{(L)}\\times X^{(L)}+b^{L})$$\n",
    "\n",
    "For each iteration ($i$) starting from the second last layer to the first \n",
    "$${\\Delta}b^{(i)} = {\\Delta}W^{(L)}\\;\\; \\text{(Derivative w.r.t}\\;\\; \\partial b^{L}\\; \\text{is just}\\; \\Delta W^{(L)} $$  \n",
    "$${\\Delta}W^{(i)} = {\\Delta}W^{(L)} * X^{L} \\;\\;\\; \\text{(where,}\\; X^{L}=Sigmoid(W^{i-1}*X^{i-1}+b^{i-1})$$ \n",
    "$${\\Delta}W^{(L)} = {(\\Delta}W^{(L)} * W^{i}) *  Sigmoid'(W^{i}*X^{i}+b^{i})$$\n",
    "\n",
    "#### Note: \n",
    "For a $i^{th}$ layer, in `back_prop`\n",
    "- $pre\\_activations_i = W^{i}*X^{i}+b^{i}$\n",
    "- $activations_i = Sigmoid(W^{i}*X^{i}+b^{i})$\n",
    "\n",
    "#### - Updating the parameters (`SGD_step`)\n",
    "\n",
    "$$W^{(i)} \\leftarrow W^{(i)} + \\eta*{\\Delta}W^{(i)}$$\n",
    "$$b^{i} \\leftarrow b^{i} + \\eta*{\\Delta}b^{i}$$"
   ]
  },
  {
   "cell_type": "code",
   "execution_count": 84,
   "metadata": {},
   "outputs": [],
   "source": [
    "import argparse\n",
    "import numpy as np\n",
    "import pickle\n",
    "import gzip\n",
    "import matplotlib.pyplot as plt"
   ]
  },
  {
   "cell_type": "markdown",
   "metadata": {},
   "source": [
    "**[25 points]** Implement class Network: \n",
    "- **3.1[5 points]** Complete the `sigmoid`: Compute the Sigmoid activation function\n",
    "- **3.2[5 points]** Complete `g_prime`: Compute the derivative of sigmoid activation function\n",
    "- **3.3[5 points]**  Complete `back_prop`: Backpropogate and compute layerwise gradient\n",
    "- **3.4[5 points]** Complete `SGD_step`: Update the parameters (weights & biases) \n",
    "- **3.5[5 points]**  & `forward_prop` Do forward propogation and compute the output"
   ]
  },
  {
   "cell_type": "code",
   "execution_count": 142,
   "metadata": {},
   "outputs": [],
   "source": [
    "class Network:\n",
    "    def __init__(self, sizes):\n",
    "        \"\"\"\n",
    "        Neural Network\n",
    "        \n",
    "        sizes: list [input_dimensions, hidden_layer_dimensions, output_dimensions]\n",
    "        L: length of the layer\n",
    "        biases: list containing biases values for each layer\n",
    "        weights: list containing weights for each layer\n",
    "        \n",
    "        Parameters:\n",
    "        sizes: list containing dimenions of the neual network\n",
    "        \"\"\"\n",
    "        self.L = len(sizes)\n",
    "        self.sizes = sizes\n",
    "        self.biases = [np.random.randn(n, 1) for n in self.sizes[1:]]\n",
    "        self.weights = [np.random.randn(n, m) for (\n",
    "            m, n) in zip(self.sizes[:-1], self.sizes[1:])]\n",
    "\n",
    "        self.acc_train_array = []\n",
    "        self.acc_test_array = []\n",
    "\n",
    "    def sigmoid(self, z, threshold=20):\n",
    "        \"\"\"\n",
    "        Sigmoid activation function\n",
    "        \"\"\"\n",
    "        ## BEGIN \n",
    "        result =(1/(2+np.exp(-z)))\n",
    "        return(result)\n",
    "        ## END \n",
    "\n",
    "    def g_prime(self, z):\n",
    "        \"\"\"\n",
    "        Derivative of sigmoid activation function\n",
    "        \"\"\"\n",
    "        ## BEGIN\n",
    "        result = (1/(2+np.exp(-z))) * (1 - (1/(2+np.exp(-z))))\n",
    "        return(result)\n",
    "        ## END\n",
    "\n",
    "    def forward_prop(self, a):\n",
    "        \"\"\"\n",
    "        Forward propagation: \n",
    "        : Do layerwise dot product between the input and the weights, \n",
    "        : adding the coresponding biases and take activations of it \n",
    "        : starting from the first layer then forward and return the final output.\n",
    "        \"\"\"\n",
    "        ### BEGIN SOLUTION4\n",
    "        result = []\n",
    "        #for each neuron\n",
    "        for size in range(self.sizes[1]):\n",
    "            holder = 0\n",
    "            #for each data point\n",
    "            for i in range(len(train)):\n",
    "                #for each feature\n",
    "                for j in range(len(train[i][0])):\n",
    "                    holder = holder + (train[i][j][0] * self.weights[i][j][0])\n",
    "            holder = holder + self.biases[0]\n",
    "            result.append(self.sigmoid(holder))\n",
    "            ### END SOLUTION\n",
    "    \n",
    "    def cost(self, yhat, y):\n",
    "        \"\"\"\n",
    "        Cost Function\n",
    "        : Cost(a,y) = (yhat-y)^2/2\n",
    "        \"\"\"\n",
    "        return 0.5*np.square(a-y)\n",
    "    \n",
    "    def grad_cost(self, yhat, y):\n",
    "        \"\"\"\n",
    "        Gradient of cost function:\n",
    "        : Derivative of Cost(yhat,y) \n",
    "        \"\"\"\n",
    "        return (yhat - y)\n",
    "    \n",
    "    def log_train_progress(self, train, test, epoch):\n",
    "        \"\"\" Logs training progres. \n",
    "        \"\"\"\n",
    "        acc_train = self.evaluate(train)\n",
    "        self.acc_train_array.append(acc_train)\n",
    "        if test is not None:\n",
    "            acc_test = self.evaluate(test)\n",
    "            self.acc_test_array.append(acc_test)\n",
    "            print(\"Epoch {:4d}: Train acc {:10.5f}, Test acc {:10.5f}\".format(epoch+1, acc_train, acc_test))\n",
    "        else:\n",
    "            print(\"Epoch {:4d}: Train acc {:10.5f}\".format(epoch+1, acc_train))\n",
    "            \n",
    "    def back_prop(self, x, y):\n",
    "        \"\"\"\n",
    "        Back propagation for computing the gradients\n",
    "        \n",
    "        NOTE: The back_prop implements it's own forward_prop\n",
    "        \n",
    "        : Once forward prop completes (implemented inside), initate list of gradients (dws, dbs),\n",
    "        : where each element of list stores the corresponding gradients of that layer.\n",
    "        : For each layer compute the gradients and update the list (dws, dbs) and return it.\n",
    "        Parameters:\n",
    "            x: Sample features\n",
    "            y: Sample labels\n",
    "            \n",
    "        RETURN: (dws, dbs)\n",
    "                 \n",
    "                 dws: list of layerwise derivative of weights\n",
    "                 dbs: list of layerwise derivative of biases\n",
    "        \"\"\"        \n",
    "        a = x\n",
    "        # List initialized for storing layer-wise output before it is fed to activations        \n",
    "        pre_activations = [np.zeros(a.shape)]          \n",
    "        # List initialized for storing layer-wise activations\n",
    "        activations = [a]\n",
    "        \n",
    "        # Forward propogation to compute layer-wise pre_activations and activations\n",
    "        for W, b in zip(self.weights, self.biases):\n",
    "            z = np.dot(W, a) + b\n",
    "            pre_activations.append(z)\n",
    "            a = self.sigmoid(z)\n",
    "            activations.append(a)\n",
    "\n",
    "        ### BEGIN SOLUTION\n",
    "\n",
    "        ### END SOLUTION\n",
    "\n",
    "    def SGD_step(self, x, y, eta):\n",
    "        \"\"\"\n",
    "        Update the values of weights (self.weights) & biases (self.biases)\n",
    "        : Get values of gradients (dws, dbs) by calling back_prop \n",
    "        : and update parameters using obtained gradients & learning rate eta\n",
    "        \n",
    "        Parameters:\n",
    "            x: single sample features.\n",
    "            y: single sample target.\n",
    "            eta: learning rate.\n",
    "            lam: Regularization parameter.\n",
    "                \n",
    "        RETURN: none\n",
    "        \"\"\"\n",
    "        ### BEGIN SOLUTION\n",
    "        self.forward_prop(1)\n",
    "        ### END SOLUTION\n",
    "\n",
    "    def train(self, train, epochs, eta, verbose=True, test=None):\n",
    "        \"\"\"\n",
    "        Training routine for the neural network\n",
    "        : For each epoch the following is done:\n",
    "        : shuffle the training dataset.\n",
    "        : call self.SGD_step which will in turn call backprop & update parameters\n",
    "        : Call self.log_train_progress according to the verbose\n",
    "        \n",
    "        Paramerers:\n",
    "        \n",
    "            train: Training set -> list containing tuple (Training Feature, Training label)\n",
    "            epochs: Number of epocs to run\n",
    "            eta: Learning rate\n",
    "            verbose: True to print accuracy updates, False otherwise\n",
    "            test: Test set -> list containing tuple (Test Feature, Test label)\n",
    "        \"\"\"\n",
    "        n_train = len(train)\n",
    "        for epoch in range(epochs):\n",
    "            perm = np.random.permutation(n_train)\n",
    "            for kk in range(n_train):\n",
    "                self.SGD_step(*train[perm[kk]], eta)\n",
    "                break\n",
    "            if verbose and epoch == 0 or (epoch + 1) % 20 == 0:\n",
    "                self.log_train_progress(train, test, epoch)\n",
    "    \n",
    "    def evaluate(self, test):\n",
    "        \"\"\"\n",
    "        Evaluate current model \n",
    "        : computes the fraction of labels matching \n",
    "        test : (test_x, test_y)\n",
    "        \"\"\"\n",
    "        ctr = 0\n",
    "        for x, y in test:\n",
    "            yhat = self.forward_prop(x)\n",
    "            ctr += yhat.argmax() == y.argmax()\n",
    "        return float(ctr) / float(len(test))"
   ]
  },
  {
   "cell_type": "markdown",
   "metadata": {},
   "source": [
    "You will use the following dataset:"
   ]
  },
  {
   "cell_type": "code",
   "execution_count": 144,
   "metadata": {},
   "outputs": [
    {
     "name": "stdout",
     "output_type": "stream",
     "text": [
      "Number of Input Features:  196\n",
      "Number of Output classes:  10\n"
     ]
    }
   ],
   "source": [
    "def TinyMNIST():\n",
    "    location = './data/tinyMNIST.pkl.gz'\n",
    "    f = gzip.open(location, 'rb')\n",
    "    u = pickle._Unpickler(f)\n",
    "    u.encoding = 'latin1'\n",
    "    train, test = u.load()\n",
    "    return train, test\n",
    "train, test = TinyMNIST()\n",
    "input_dimensions, output_dimensions = len(train[0][0]), len(train[0][1])\n",
    "print('Number of Input Features: ', input_dimensions)\n",
    "print('Number of Output classes: ', output_dimensions)"
   ]
  },
  {
   "cell_type": "markdown",
   "metadata": {},
   "source": [
    "Use the TinyMNIST Dataset and report the following:\n",
    "- **3.6 [5 points]** Change the hidden layer dimensions and experiment with these values: [5, 10, 20]."
   ]
  },
  {
   "cell_type": "code",
   "execution_count": 9,
   "metadata": {},
   "outputs": [],
   "source": [
    "## BEGIN\n",
    "for i in [5,10,20]:\n",
    "    model = Network([196,i,10])\n",
    "    model.train(train,1,1)\n",
    "## END"
   ]
  },
  {
   "cell_type": "markdown",
   "metadata": {},
   "source": [
    "- **3.7 [5 points]** Generate plots of accuracies obtaiend from each hidden layer dimensions vs. epochs for both training and testing.\n",
    "\n",
    "**NOTE:** You can generate all in one single plot by color-labelling each according to the dimensions. "
   ]
  },
  {
   "cell_type": "code",
   "execution_count": 10,
   "metadata": {},
   "outputs": [],
   "source": [
    "### BEGIN SOLUTION\n",
    "\n",
    "### END SOLUTION"
   ]
  },
  {
   "cell_type": "markdown",
   "metadata": {},
   "source": [
    "- **3.8 [5 points]** Explain the effect of hidden layer dimension on performance. "
   ]
  },
  {
   "cell_type": "markdown",
   "metadata": {},
   "source": [
    "### Workspace 3.8\n",
    "\n",
    "#### BEGIN\n",
    "\n",
    "#### END"
   ]
  },
  {
   "cell_type": "code",
   "execution_count": null,
   "metadata": {},
   "outputs": [],
   "source": []
  }
 ],
 "metadata": {
  "kernelspec": {
   "display_name": "Python 3",
   "language": "python",
   "name": "python3"
  },
  "language_info": {
   "codemirror_mode": {
    "name": "ipython",
    "version": 3
   },
   "file_extension": ".py",
   "mimetype": "text/x-python",
   "name": "python",
   "nbconvert_exporter": "python",
   "pygments_lexer": "ipython3",
   "version": "3.7.4"
  }
 },
 "nbformat": 4,
 "nbformat_minor": 5
}
